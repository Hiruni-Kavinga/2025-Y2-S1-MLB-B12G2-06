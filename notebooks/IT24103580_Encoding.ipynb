{
 "cells": [
  {
   "cell_type": "code",
   "execution_count": 25,
   "id": "534db4fb-9987-45f1-8354-3c0d33b0b80e",
   "metadata": {},
   "outputs": [],
   "source": [
    "# Import necessary libraries\n",
    "import pandas as pd\n",
    "import matplotlib.pyplot as plt\n",
    "import seaborn as sns"
   ]
  },
  {
   "cell_type": "code",
   "execution_count": 27,
   "id": "8298d552-d954-404a-a4a9-2bb23976dec5",
   "metadata": {},
   "outputs": [],
   "source": [
    "#Load the cleaned dataset\n",
    "df = pd.read_excel(\"Copy of healthcare-stroke-data-Allcleaned.xlsx\")"
   ]
  },
  {
   "cell_type": "code",
   "execution_count": 28,
   "id": "0afa664f-8182-4d7d-8dff-3f2c423767b1",
   "metadata": {},
   "outputs": [
    {
     "data": {
      "text/html": [
       "<div>\n",
       "<style scoped>\n",
       "    .dataframe tbody tr th:only-of-type {\n",
       "        vertical-align: middle;\n",
       "    }\n",
       "\n",
       "    .dataframe tbody tr th {\n",
       "        vertical-align: top;\n",
       "    }\n",
       "\n",
       "    .dataframe thead th {\n",
       "        text-align: right;\n",
       "    }\n",
       "</style>\n",
       "<table border=\"1\" class=\"dataframe\">\n",
       "  <thead>\n",
       "    <tr style=\"text-align: right;\">\n",
       "      <th></th>\n",
       "      <th>id</th>\n",
       "      <th>gender</th>\n",
       "      <th>age</th>\n",
       "      <th>hypertension</th>\n",
       "      <th>heart_disease</th>\n",
       "      <th>ever_married</th>\n",
       "      <th>work_type</th>\n",
       "      <th>Residence_type</th>\n",
       "      <th>avg_glucose_level</th>\n",
       "      <th>bmi</th>\n",
       "      <th>smoking_status</th>\n",
       "      <th>stroke</th>\n",
       "    </tr>\n",
       "  </thead>\n",
       "  <tbody>\n",
       "    <tr>\n",
       "      <th>0</th>\n",
       "      <td>31112</td>\n",
       "      <td>Male</td>\n",
       "      <td>78</td>\n",
       "      <td>0</td>\n",
       "      <td>1</td>\n",
       "      <td>Yes</td>\n",
       "      <td>Private</td>\n",
       "      <td>Rural</td>\n",
       "      <td>105.920</td>\n",
       "      <td>32.500000</td>\n",
       "      <td>never smoked</td>\n",
       "      <td>1</td>\n",
       "    </tr>\n",
       "    <tr>\n",
       "      <th>1</th>\n",
       "      <td>53882</td>\n",
       "      <td>Male</td>\n",
       "      <td>74</td>\n",
       "      <td>1</td>\n",
       "      <td>1</td>\n",
       "      <td>Yes</td>\n",
       "      <td>Private</td>\n",
       "      <td>Rural</td>\n",
       "      <td>70.090</td>\n",
       "      <td>27.400000</td>\n",
       "      <td>never smoked</td>\n",
       "      <td>1</td>\n",
       "    </tr>\n",
       "    <tr>\n",
       "      <th>2</th>\n",
       "      <td>10434</td>\n",
       "      <td>Female</td>\n",
       "      <td>69</td>\n",
       "      <td>0</td>\n",
       "      <td>0</td>\n",
       "      <td>No</td>\n",
       "      <td>Private</td>\n",
       "      <td>Urban</td>\n",
       "      <td>94.390</td>\n",
       "      <td>22.800000</td>\n",
       "      <td>never smoked</td>\n",
       "      <td>1</td>\n",
       "    </tr>\n",
       "    <tr>\n",
       "      <th>3</th>\n",
       "      <td>27419</td>\n",
       "      <td>Female</td>\n",
       "      <td>59</td>\n",
       "      <td>0</td>\n",
       "      <td>0</td>\n",
       "      <td>Yes</td>\n",
       "      <td>Private</td>\n",
       "      <td>Rural</td>\n",
       "      <td>76.150</td>\n",
       "      <td>28.893237</td>\n",
       "      <td>Unknown</td>\n",
       "      <td>1</td>\n",
       "    </tr>\n",
       "    <tr>\n",
       "      <th>4</th>\n",
       "      <td>60491</td>\n",
       "      <td>Female</td>\n",
       "      <td>78</td>\n",
       "      <td>0</td>\n",
       "      <td>0</td>\n",
       "      <td>Yes</td>\n",
       "      <td>Private</td>\n",
       "      <td>Urban</td>\n",
       "      <td>60.134</td>\n",
       "      <td>24.200000</td>\n",
       "      <td>Unknown</td>\n",
       "      <td>1</td>\n",
       "    </tr>\n",
       "  </tbody>\n",
       "</table>\n",
       "</div>"
      ],
      "text/plain": [
       "      id  gender  age  hypertension  heart_disease ever_married work_type  \\\n",
       "0  31112    Male   78             0              1          Yes   Private   \n",
       "1  53882    Male   74             1              1          Yes   Private   \n",
       "2  10434  Female   69             0              0           No   Private   \n",
       "3  27419  Female   59             0              0          Yes   Private   \n",
       "4  60491  Female   78             0              0          Yes   Private   \n",
       "\n",
       "  Residence_type  avg_glucose_level        bmi smoking_status  stroke  \n",
       "0          Rural            105.920  32.500000   never smoked       1  \n",
       "1          Rural             70.090  27.400000   never smoked       1  \n",
       "2          Urban             94.390  22.800000   never smoked       1  \n",
       "3          Rural             76.150  28.893237        Unknown       1  \n",
       "4          Urban             60.134  24.200000        Unknown       1  "
      ]
     },
     "execution_count": 28,
     "metadata": {},
     "output_type": "execute_result"
    }
   ],
   "source": [
    "\n",
    "# Display first few rows\n",
    "df.head()"
   ]
  },
  {
   "cell_type": "code",
   "execution_count": 31,
   "id": "b432b509-ec05-4137-812c-1b3cf98c9187",
   "metadata": {},
   "outputs": [
    {
     "name": "stdout",
     "output_type": "stream",
     "text": [
      "<class 'pandas.core.frame.DataFrame'>\n",
      "RangeIndex: 4383 entries, 0 to 4382\n",
      "Data columns (total 12 columns):\n",
      " #   Column             Non-Null Count  Dtype  \n",
      "---  ------             --------------  -----  \n",
      " 0   id                 4383 non-null   int64  \n",
      " 1   gender             4383 non-null   object \n",
      " 2   age                4383 non-null   int64  \n",
      " 3   hypertension       4383 non-null   int64  \n",
      " 4   heart_disease      4383 non-null   int64  \n",
      " 5   ever_married       4383 non-null   object \n",
      " 6   work_type          4383 non-null   object \n",
      " 7   Residence_type     4383 non-null   object \n",
      " 8   avg_glucose_level  4383 non-null   float64\n",
      " 9   bmi                4383 non-null   float64\n",
      " 10  smoking_status     4383 non-null   object \n",
      " 11  stroke             4383 non-null   int64  \n",
      "dtypes: float64(2), int64(5), object(5)\n",
      "memory usage: 411.0+ KB\n"
     ]
    }
   ],
   "source": [
    "# Check data types and null values\n",
    "df.info()"
   ]
  },
  {
   "cell_type": "code",
   "execution_count": 33,
   "id": "654e8ba6-006e-48e9-b74d-70febb4ef670",
   "metadata": {},
   "outputs": [
    {
     "name": "stdout",
     "output_type": "stream",
     "text": [
      "Categorical Columns: ['gender', 'ever_married', 'work_type', 'Residence_type', 'smoking_status']\n"
     ]
    }
   ],
   "source": [
    "# View categorical columns\n",
    "categorical_cols = df.select_dtypes(include=[\"object\"]).columns\n",
    "print(\"Categorical Columns:\", categorical_cols.tolist())"
   ]
  },
  {
   "cell_type": "code",
   "execution_count": 35,
   "id": "5b9da6c5-b989-4775-ae4f-ccc33656a0d9",
   "metadata": {},
   "outputs": [
    {
     "data": {
      "image/png": "[encoded data removed]",
      "text/plain": [
       "<Figure size 640x480 with 1 Axes>"
      ]
     },
     "metadata": {},
     "output_type": "display_data"
    },
    {
     "data": {
      "image/png": "[encoded data removed]",
      "text/plain": [
       "<Figure size 640x480 with 1 Axes>"
      ]
     },
     "metadata": {},
     "output_type": "display_data"
    },
    {
     "data": {
      "image/png": "[encoded data removed]",
      "text/plain": [
       "<Figure size 640x480 with 1 Axes>"
      ]
     },
     "metadata": {},
     "output_type": "display_data"
    }
   ],
   "source": [
    "import os\n",
    "import matplotlib.pyplot as plt\n",
    "import seaborn as sns\n",
    "\n",
    "# Local path to save plots\n",
    "save_path = r\"C:\\Users\\ASUS\\Documents\\EDA_Plots\"\n",
    "os.makedirs(save_path, exist_ok=True)\n",
    "\n",
    "#Gender distribution\n",
    "sns.countplot(x=\"gender\", data=df)\n",
    "plt.title(\"Gender Distribution\")\n",
    "plt.savefig(os.path.join(save_path, \"gender_distribution.png\"), bbox_inches='tight')\n",
    "plt.show()\n",
    "\n",
    "#Work Type distribution\n",
    "sns.countplot(x=\"work_type\", data=df)\n",
    "plt.title(\"Work Type Distribution\")\n",
    "plt.xticks(rotation=45)\n",
    "plt.savefig(os.path.join(save_path, \"work_type_distribution.png\"), bbox_inches='tight')\n",
    "plt.show()\n",
    "\n",
    "#Smoking status distribution\n",
    "sns.countplot(x=\"smoking_status\", data=df)\n",
    "plt.title(\"Smoking Status Distribution\")\n",
    "plt.xticks(rotation=45)\n",
    "plt.savefig(os.path.join(save_path, \"smoking_status_distribution.png\"), bbox_inches='tight')\n",
    "plt.show()\n"
   ]
  },
  {
   "cell_type": "code",
   "execution_count": 37,
   "id": "c9abbab5-2bad-41e2-bf10-455f8bd1bd59",
   "metadata": {},
   "outputs": [
    {
     "data": {
      "text/plain": [
       "'C:\\\\Users\\\\ASUS'"
      ]
     },
     "execution_count": 37,
     "metadata": {},
     "output_type": "execute_result"
    }
   ],
   "source": [
    "import os\n",
    "os.getcwd()\n"
   ]
  },
  {
   "cell_type": "code",
   "execution_count": 39,
   "id": "8a6d2112-b77d-4665-a2fc-bdd868d0eeff",
   "metadata": {},
   "outputs": [],
   "source": [
    "from sklearn.preprocessing import LabelEncoder\n"
   ]
  },
  {
   "cell_type": "code",
   "execution_count": 41,
   "id": "3848eae0-c773-47a3-904d-a7197c3872bc",
   "metadata": {},
   "outputs": [],
   "source": [
    "# Make a copy to avoid overwriting original\n",
    "df_encoded = df.copy()\n"
   ]
  },
  {
   "cell_type": "code",
   "execution_count": 43,
   "id": "b5f6c7e9-f54a-4958-adba-1ecad30a0aac",
   "metadata": {},
   "outputs": [],
   "source": [
    "# 1. Label Encoding for binary columns\n",
    "binary_cols = [\"gender\", \"ever_married\", \"Residence_type\"]\n",
    "\n",
    "le = LabelEncoder()\n",
    "for col in binary_cols:\n",
    "    df_encoded[col] = le.fit_transform(df_encoded[col])\n"
   ]
  },
  {
   "cell_type": "code",
   "execution_count": 45,
   "id": "a81ab9db-cb4f-42e2-838d-ea42025ad037",
   "metadata": {},
   "outputs": [],
   "source": [
    "# 2. One-Hot Encoding for multi-class columns\n",
    "multi_class_cols = [\"work_type\", \"smoking_status\"]\n",
    "\n",
    "df_encoded = pd.get_dummies(df_encoded, columns=multi_class_cols, drop_first=True)\n"
   ]
  },
  {
   "cell_type": "code",
   "execution_count": 47,
   "id": "dadc2900-b849-4605-95e9-bb26db4b4ceb",
   "metadata": {},
   "outputs": [
    {
     "data": {
      "text/html": [
       "<div>\n",
       "<style scoped>\n",
       "    .dataframe tbody tr th:only-of-type {\n",
       "        vertical-align: middle;\n",
       "    }\n",
       "\n",
       "    .dataframe tbody tr th {\n",
       "        vertical-align: top;\n",
       "    }\n",
       "\n",
       "    .dataframe thead th {\n",
       "        text-align: right;\n",
       "    }\n",
       "</style>\n",
       "<table border=\"1\" class=\"dataframe\">\n",
       "  <thead>\n",
       "    <tr style=\"text-align: right;\">\n",
       "      <th></th>\n",
       "      <th>id</th>\n",
       "      <th>gender</th>\n",
       "      <th>age</th>\n",
       "      <th>hypertension</th>\n",
       "      <th>heart_disease</th>\n",
       "      <th>ever_married</th>\n",
       "      <th>Residence_type</th>\n",
       "      <th>avg_glucose_level</th>\n",
       "      <th>bmi</th>\n",
       "      <th>stroke</th>\n",
       "      <th>work_type_Never_worked</th>\n",
       "      <th>work_type_Private</th>\n",
       "      <th>work_type_Self-employed</th>\n",
       "      <th>work_type_children</th>\n",
       "      <th>smoking_status_formerly smoked</th>\n",
       "      <th>smoking_status_never smoked</th>\n",
       "      <th>smoking_status_smokes</th>\n",
       "    </tr>\n",
       "  </thead>\n",
       "  <tbody>\n",
       "    <tr>\n",
       "      <th>0</th>\n",
       "      <td>31112</td>\n",
       "      <td>1</td>\n",
       "      <td>78</td>\n",
       "      <td>0</td>\n",
       "      <td>1</td>\n",
       "      <td>1</td>\n",
       "      <td>0</td>\n",
       "      <td>105.920</td>\n",
       "      <td>32.500000</td>\n",
       "      <td>1</td>\n",
       "      <td>False</td>\n",
       "      <td>True</td>\n",
       "      <td>False</td>\n",
       "      <td>False</td>\n",
       "      <td>False</td>\n",
       "      <td>True</td>\n",
       "      <td>False</td>\n",
       "    </tr>\n",
       "    <tr>\n",
       "      <th>1</th>\n",
       "      <td>53882</td>\n",
       "      <td>1</td>\n",
       "      <td>74</td>\n",
       "      <td>1</td>\n",
       "      <td>1</td>\n",
       "      <td>1</td>\n",
       "      <td>0</td>\n",
       "      <td>70.090</td>\n",
       "      <td>27.400000</td>\n",
       "      <td>1</td>\n",
       "      <td>False</td>\n",
       "      <td>True</td>\n",
       "      <td>False</td>\n",
       "      <td>False</td>\n",
       "      <td>False</td>\n",
       "      <td>True</td>\n",
       "      <td>False</td>\n",
       "    </tr>\n",
       "    <tr>\n",
       "      <th>2</th>\n",
       "      <td>10434</td>\n",
       "      <td>0</td>\n",
       "      <td>69</td>\n",
       "      <td>0</td>\n",
       "      <td>0</td>\n",
       "      <td>0</td>\n",
       "      <td>1</td>\n",
       "      <td>94.390</td>\n",
       "      <td>22.800000</td>\n",
       "      <td>1</td>\n",
       "      <td>False</td>\n",
       "      <td>True</td>\n",
       "      <td>False</td>\n",
       "      <td>False</td>\n",
       "      <td>False</td>\n",
       "      <td>True</td>\n",
       "      <td>False</td>\n",
       "    </tr>\n",
       "    <tr>\n",
       "      <th>3</th>\n",
       "      <td>27419</td>\n",
       "      <td>0</td>\n",
       "      <td>59</td>\n",
       "      <td>0</td>\n",
       "      <td>0</td>\n",
       "      <td>1</td>\n",
       "      <td>0</td>\n",
       "      <td>76.150</td>\n",
       "      <td>28.893237</td>\n",
       "      <td>1</td>\n",
       "      <td>False</td>\n",
       "      <td>True</td>\n",
       "      <td>False</td>\n",
       "      <td>False</td>\n",
       "      <td>False</td>\n",
       "      <td>False</td>\n",
       "      <td>False</td>\n",
       "    </tr>\n",
       "    <tr>\n",
       "      <th>4</th>\n",
       "      <td>60491</td>\n",
       "      <td>0</td>\n",
       "      <td>78</td>\n",
       "      <td>0</td>\n",
       "      <td>0</td>\n",
       "      <td>1</td>\n",
       "      <td>1</td>\n",
       "      <td>60.134</td>\n",
       "      <td>24.200000</td>\n",
       "      <td>1</td>\n",
       "      <td>False</td>\n",
       "      <td>True</td>\n",
       "      <td>False</td>\n",
       "      <td>False</td>\n",
       "      <td>False</td>\n",
       "      <td>False</td>\n",
       "      <td>False</td>\n",
       "    </tr>\n",
       "  </tbody>\n",
       "</table>\n",
       "</div>"
      ],
      "text/plain": [
       "      id  gender  age  hypertension  heart_disease  ever_married  \\\n",
       "0  31112       1   78             0              1             1   \n",
       "1  53882       1   74             1              1             1   \n",
       "2  10434       0   69             0              0             0   \n",
       "3  27419       0   59             0              0             1   \n",
       "4  60491       0   78             0              0             1   \n",
       "\n",
       "   Residence_type  avg_glucose_level        bmi  stroke  \\\n",
       "0               0            105.920  32.500000       1   \n",
       "1               0             70.090  27.400000       1   \n",
       "2               1             94.390  22.800000       1   \n",
       "3               0             76.150  28.893237       1   \n",
       "4               1             60.134  24.200000       1   \n",
       "\n",
       "   work_type_Never_worked  work_type_Private  work_type_Self-employed  \\\n",
       "0                   False               True                    False   \n",
       "1                   False               True                    False   \n",
       "2                   False               True                    False   \n",
       "3                   False               True                    False   \n",
       "4                   False               True                    False   \n",
       "\n",
       "   work_type_children  smoking_status_formerly smoked  \\\n",
       "0               False                           False   \n",
       "1               False                           False   \n",
       "2               False                           False   \n",
       "3               False                           False   \n",
       "4               False                           False   \n",
       "\n",
       "   smoking_status_never smoked  smoking_status_smokes  \n",
       "0                         True                  False  \n",
       "1                         True                  False  \n",
       "2                         True                  False  \n",
       "3                        False                  False  \n",
       "4                        False                  False  "
      ]
     },
     "execution_count": 47,
     "metadata": {},
     "output_type": "execute_result"
    }
   ],
   "source": [
    "# Check encoded dataset\n",
    "df_encoded.head()"
   ]
  },
  {
   "cell_type": "code",
   "execution_count": 49,
   "id": "644de8f9-ea83-48fa-a37a-5910280eceb9",
   "metadata": {},
   "outputs": [
    {
     "name": "stdout",
     "output_type": "stream",
     "text": [
      "Before Encoding Shape: (4383, 12)\n",
      "After Encoding Shape: (4383, 17)\n"
     ]
    }
   ],
   "source": [
    "print(\"Before Encoding Shape:\", df.shape)\n",
    "print(\"After Encoding Shape:\", df_encoded.shape)\n"
   ]
  },
  {
   "cell_type": "code",
   "execution_count": 51,
   "id": "702ab215-41e5-4df8-b4a3-b14d867cc07b",
   "metadata": {},
   "outputs": [],
   "source": [
    "import os\n",
    "\n",
    "# Create outputs folder in the current directory\n",
    "os.makedirs(\"outputs\", exist_ok=True)\n",
    "\n",
    "# Save the encoded dataset\n",
    "df_encoded.to_csv(\"outputs/encoded_dataset.csv\", index=False)\n"
   ]
  }
 ],
 "metadata": {
  "kernelspec": {
   "display_name": "Python [conda env:anaconda3]",
   "language": "python",
   "name": "conda-env-anaconda3-py"
  },
  "language_info": {
   "codemirror_mode": {
    "name": "ipython",
    "version": 3
   },
   "file_extension": ".py",
   "mimetype": "text/x-python",
   "name": "python",
   "nbconvert_exporter": "python",
   "pygments_lexer": "ipython3",
   "version": "3.12.7"
  }
 },
 "nbformat": 4,
 "nbformat_minor": 5
}
